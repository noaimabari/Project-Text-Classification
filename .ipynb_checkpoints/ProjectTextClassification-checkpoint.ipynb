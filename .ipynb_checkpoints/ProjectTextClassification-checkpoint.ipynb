{
 "cells": [
  {
   "cell_type": "code",
   "execution_count": 1,
   "metadata": {},
   "outputs": [],
   "source": [
    "import os\n",
    "import numpy as np\n",
    "import sklearn\n",
    "from sklearn import model_selection\n",
    "from sklearn.naive_bayes import MultinomialNB\n",
    "import string"
   ]
  },
  {
   "cell_type": "code",
   "execution_count": 2,
   "metadata": {},
   "outputs": [],
   "source": [
    "# forming list of stop_words\n",
    "import nltk\n",
    "from nltk.corpus import stopwords\n",
    "stop_words = list(set(stopwords.words('english')))\n"
   ]
  },
  {
   "cell_type": "code",
   "execution_count": 3,
   "metadata": {},
   "outputs": [],
   "source": [
    "def x_y():\n",
    "    \n",
    "    f = [\"alt.atheism\",\"comp.graphics\",\"comp.os.ms-windows.misc\",\"comp.sys.ibm.pc.hardware\",\"comp.sys.mac.hardware\",\"comp.windows.x\",\"misc.forsale\",\n",
    "    \"rec.autos\",\"rec.motorcycles\",\"rec.sport.baseball\",\"rec.sport.hockey\",\"sci.crypt\",\"sci.electronics\",\"sci.med\",\"sci.space\",\"soc.religion.christian\",\n",
    "    \"talk.politics.guns\",\"talk.politics.mideast\",\"talk.politics.misc\",\"talk.politics.misc\"]\n",
    "    \n",
    "    x = []\n",
    "    y = []\n",
    "    \n",
    "    for i in range(20):    \n",
    "        name_of_folder = f[i]\n",
    "        path1 = \"20_newsgroups/\" + name_of_folder    \n",
    "        file_list = os.listdir(path1)\n",
    "        for j in file_list:\n",
    "            path_of_file = path1 + \"/\" + j\n",
    "            x.append(path_of_file)\n",
    "            y.append(name_of_folder)\n",
    "            \n",
    "    return x,y\n",
    "    "
   ]
  },
  {
   "cell_type": "code",
   "execution_count": 4,
   "metadata": {},
   "outputs": [],
   "source": [
    "x,y = x_y() # x is a 1d array consisting of path of each document, y is a 1d array consisting of corresponding names of folders as class labels"
   ]
  },
  {
   "cell_type": "code",
   "execution_count": 9,
   "metadata": {},
   "outputs": [],
   "source": [
    "x_train,x_test,y_train,y_test = model_selection.train_test_split(x,y,random_state = 1) # splitting the initial x and y into train and test"
   ]
  },
  {
   "cell_type": "code",
   "execution_count": 10,
   "metadata": {},
   "outputs": [],
   "source": [
    "import matplotlib.pyplot as plt"
   ]
  },
  {
   "cell_type": "code",
   "execution_count": 11,
   "metadata": {},
   "outputs": [],
   "source": [
    "# function to pre process the words before forming the vocabulary\n",
    "\n",
    "def process(words):\n",
    "   \n",
    "    \n",
    "    p = (string.punctuation).replace(\"'\", \"\")  + \"\\t\"\n",
    "    table = str.maketrans('', '', p)\n",
    "    words = [word.translate(table) for word in words]\n",
    "    words = [str for str in words if str]\n",
    "    words = [word for word in words if not word.isdigit()]\n",
    "    words = [str for str in words if str]\n",
    "    words = [word.lower() for word in words]\n",
    "    words = [word for word in words if len(word) > 2]\n",
    "    \n",
    "    return words\n"
   ]
  },
  {
   "cell_type": "code",
   "execution_count": 12,
   "metadata": {},
   "outputs": [],
   "source": [
    "# function to form the vocabulary\n",
    "\n",
    "def vocab(x_train):\n",
    "    \n",
    "    d = {} \n",
    "    for i in range(len(x_train)):\n",
    "        with open(x_train[i]) as file_obj:\n",
    "            message = file_obj.read()\n",
    "            words = message.split()\n",
    "            words = process(words)\n",
    "            for word in words:\n",
    "                if word not in stop_words:\n",
    "                    d[word] = d.get(word,0) + 1\n",
    "    words = np.array(list(d.keys()))\n",
    "    count = np.array(list(d.values()))\n",
    "    ind = np.argsort(count)\n",
    "    words = words[ind]\n",
    "    count = count[ind]\n",
    "    plt.plot(words[-1:-2001:-1],count[-1:-2001:-1])\n",
    "\n",
    "    plt.show()\n",
    "    vocabulary = words[-1:-2001:-1] # taking 2000 words as vocabulary (ie. no. of features)\n",
    "    return vocabulary,d"
   ]
  },
  {
   "cell_type": "code",
   "execution_count": 13,
   "metadata": {},
   "outputs": [
    {
     "data": {
      "image/png": "[encoded data removed]",
      "text/plain": [
       "<Figure size 432x288 with 1 Axes>"
      ]
     },
     "metadata": {
      "needs_background": "light"
     },
     "output_type": "display_data"
    },
    {
     "data": {
      "text/plain": [
       "2000"
      ]
     },
     "execution_count": 13,
     "metadata": {},
     "output_type": "execute_result"
    }
   ],
   "source": [
    "vocabulary,d = vocab(x_train)\n",
    "len(vocabulary)"
   ]
  },
  {
   "cell_type": "code",
   "execution_count": 15,
   "metadata": {},
   "outputs": [],
   "source": [
    "# forming a dictionary containing the corresponding indices of the words of the vocabulary\n",
    "index = {}\n",
    "for i in range(len(vocabulary)):\n",
    "    index[vocabulary[i]] = i"
   ]
  },
  {
   "cell_type": "code",
   "execution_count": 16,
   "metadata": {},
   "outputs": [],
   "source": [
    "# function to convert x into a 2d array \n",
    "\n",
    "def x2d(x,vocabulary,index):\n",
    "    x_2d = [[0 for i in range(len(vocabulary))] for j in range(len(x))]\n",
    "    for i in range(len(x)):\n",
    "        with open(x[i]) as file_obj:\n",
    "            message = file_obj.read()\n",
    "            words = message.split()\n",
    "            for word in words:\n",
    "                if word in vocabulary:\n",
    "                    j = index[word] \n",
    "                    x_2d[i][j] += 1\n",
    "    return x_2d"
   ]
  },
  {
   "cell_type": "code",
   "execution_count": 17,
   "metadata": {},
   "outputs": [],
   "source": [
    "x_train_2d = x2d(x_train,vocabulary,index)"
   ]
  },
  {
   "cell_type": "markdown",
   "metadata": {},
   "source": [
    "## Using inbuilt sklearn Multinomial NB:-"
   ]
  },
  {
   "cell_type": "code",
   "execution_count": 18,
   "metadata": {},
   "outputs": [
    {
     "data": {
      "text/plain": [
       "MultinomialNB(alpha=1.0, class_prior=None, fit_prior=True)"
      ]
     },
     "execution_count": 18,
     "metadata": {},
     "output_type": "execute_result"
    }
   ],
   "source": [
    "clf = MultinomialNB()\n",
    "clf.fit(x_train_2d,y_train)"
   ]
  },
  {
   "cell_type": "code",
   "execution_count": 19,
   "metadata": {},
   "outputs": [],
   "source": [
    "x_test_2d = x2d(x_test,vocabulary,index) # transforming x_test into 2d array"
   ]
  },
  {
   "cell_type": "code",
   "execution_count": 20,
   "metadata": {},
   "outputs": [],
   "source": [
    "y_pred = clf.predict(x_test_2d)"
   ]
  },
  {
   "cell_type": "code",
   "execution_count": 21,
   "metadata": {},
   "outputs": [
    {
     "name": "stdout",
     "output_type": "stream",
     "text": [
      "0.725078349003134\n"
     ]
    }
   ],
   "source": [
    "print(clf.score(x_train_2d,y_train))"
   ]
  },
  {
   "cell_type": "code",
   "execution_count": 22,
   "metadata": {},
   "outputs": [
    {
     "name": "stdout",
     "output_type": "stream",
     "text": [
      "0.662\n"
     ]
    }
   ],
   "source": [
    "print(clf.score(x_test_2d,y_test)) "
   ]
  },
  {
   "cell_type": "code",
   "execution_count": 23,
   "metadata": {},
   "outputs": [
    {
     "name": "stdout",
     "output_type": "stream",
     "text": [
      "                          precision    recall  f1-score   support\n",
      "\n",
      "             alt.atheism       0.64      0.70      0.67       261\n",
      "           comp.graphics       0.50      0.60      0.54       248\n",
      " comp.os.ms-windows.misc       0.48      0.53      0.51       253\n",
      "comp.sys.ibm.pc.hardware       0.58      0.52      0.55       260\n",
      "   comp.sys.mac.hardware       0.58      0.53      0.55       266\n",
      "          comp.windows.x       0.70      0.59      0.64       265\n",
      "            misc.forsale       0.70      0.74      0.72       252\n",
      "               rec.autos       0.65      0.70      0.67       223\n",
      "         rec.motorcycles       0.73      0.72      0.73       293\n",
      "      rec.sport.baseball       0.70      0.75      0.72       245\n",
      "        rec.sport.hockey       0.82      0.74      0.78       247\n",
      "               sci.crypt       0.86      0.78      0.82       248\n",
      "         sci.electronics       0.59      0.63      0.61       239\n",
      "                 sci.med       0.78      0.75      0.76       236\n",
      "               sci.space       0.77      0.65      0.71       238\n",
      "  soc.religion.christian       0.63      0.72      0.67       233\n",
      "      talk.politics.guns       0.63      0.71      0.67       255\n",
      "   talk.politics.mideast       0.73      0.66      0.69       258\n",
      "      talk.politics.misc       0.65      0.62      0.63       480\n",
      "\n",
      "               micro avg       0.66      0.66      0.66      5000\n",
      "               macro avg       0.67      0.67      0.67      5000\n",
      "            weighted avg       0.67      0.66      0.66      5000\n",
      "\n",
      "[[182   2   0   0   0   1   1   2   3   6   1   2   2   4   2  29   4   9\n",
      "   11]\n",
      " [  3 149  28  11   6  16   4   2   1   2   3   2   9   3   4   3   1   0\n",
      "    1]\n",
      " [  1  23 134  24  12  22   7   1   2   1   0   4   5   2   1   2   1   3\n",
      "    8]\n",
      " [  0   9  25 136  46   4   9   7   1   1   0   2  16   1   0   0   0   0\n",
      "    3]\n",
      " [  2  10  28  32 142   5  13   5   3   0   0   1  12   6   2   3   1   0\n",
      "    1]\n",
      " [  2  44  29   6   1 157   6   3   2   0   0   1   3   0   2   3   0   0\n",
      "    6]\n",
      " [  0   5   3   9   8   1 186  11   5   1   2   1   8   1   2   0   2   1\n",
      "    6]\n",
      " [  1   0   4   0   3   1   9 155  16   2   1   0  14   2   1   3   3   3\n",
      "    5]\n",
      " [  3   2   2   1   0   2   6  21 212   8   8   0   7   2   2   1   4   2\n",
      "   10]\n",
      " [  4   2   2   0   2   2   4   5   1 183  20   0   5   1   0   3   1   1\n",
      "    9]\n",
      " [  0   0   2   0   1   0   3   1   7  32 184   1   1   0   1   5   1   2\n",
      "    6]\n",
      " [  2   8   6   0   3   2   1   0   1   2   2 194   4   2   4   1   4   1\n",
      "   11]\n",
      " [  2  11   7  15  17   4   8   9   4   1   0   1 151   3   4   0   0   0\n",
      "    2]\n",
      " [  6   6   3   0   1   1   2   3   9   3   0   1   8 176   4   5   0   0\n",
      "    8]\n",
      " [  8  17   1   0   3   3   3   6   7   5   1   3   6   4 155   5   3   0\n",
      "    8]\n",
      " [ 32   5   0   1   0   0   1   2   2   2   1   2   1   4   2 167   2   4\n",
      "    5]\n",
      " [  2   0   0   0   1   1   2   3   5   4   0   4   1   3   1   7 181   9\n",
      "   31]\n",
      " [ 18   2   2   0   0   1   1   1   2   4   2   1   1   2   2  12   6 170\n",
      "   31]\n",
      " [ 15   5   1   0   0   0   0   3   6   6   0   6   1   9  12  18  73  29\n",
      "  296]]\n"
     ]
    }
   ],
   "source": [
    "from sklearn.metrics import classification_report, confusion_matrix\n",
    "print(classification_report(y_test, y_pred))\n",
    "print(confusion_matrix(y_test, y_pred))"
   ]
  },
  {
   "cell_type": "markdown",
   "metadata": {},
   "source": [
    "## Self Implementation of Multinomial Naive Bayes:-"
   ]
  },
  {
   "cell_type": "code",
   "execution_count": 24,
   "metadata": {},
   "outputs": [],
   "source": [
    "# fit function to form and return a count dictionary \n",
    "\n",
    "def fit(X_train,Y_train,vocabulary):\n",
    "    \n",
    "    Y_train = np.array(Y_train)\n",
    "    X_train = np.array(X_train)\n",
    "    \n",
    "    count = {} # main dictionary\n",
    "    classes = set(Y_train)\n",
    "    for current_class in classes:\n",
    "        count[current_class] = {}\n",
    "        current_class_rows = (Y_train == current_class) # getting all current_class_rows\n",
    "        X_train_current = X_train[current_class_rows]\n",
    "        count[current_class][\"total_words\"] = sum(sum(X_train_current)) # total number of words in all documents of current_class\n",
    "        for i in range(len(vocabulary)):\n",
    "            count[current_class][vocabulary[i]] = X_train_current[:,i].sum()\n",
    "            \n",
    "    return count"
   ]
  },
  {
   "cell_type": "code",
   "execution_count": 31,
   "metadata": {},
   "outputs": [],
   "source": [
    "# probability function to return prob(wi/y=ci) in logarthimic form\n",
    "\n",
    "def prob(word,count,current_class):\n",
    "    \n",
    "    ans = np.log(count[current_class][word]+1) - np.log(count[current_class][\"total_words\"]+len(vocabulary)) # along with laplace correctiion\n",
    "    return ans\n",
    "    \n",
    "# predict function to predict the class values for given x_test\n",
    "\n",
    "def predict(x_test,count,vocabulary):\n",
    "    \n",
    "    y_pred = []\n",
    "    \n",
    "    for i in range(len(x_test)):\n",
    "        with open(x_test[i]) as document:\n",
    "            w = []\n",
    "            message = document.read()\n",
    "            words = message.split()\n",
    "            classes = set(y)\n",
    "            \n",
    "            for word in words:\n",
    "                if word in vocabulary:\n",
    "                    w.append(word)\n",
    "                    \n",
    "            max_probability = -1000\n",
    "            best_class = -1\n",
    "        \n",
    "            for current_class in classes:\n",
    "                \n",
    "                pr = np.log(1/20) # probabilty of y=current_class\n",
    "                for wo in w:\n",
    "                    p = prob(wo,count,current_class)\n",
    "                    pr  += p # adding all logarithmic probabilities\n",
    "                    \n",
    "                if pr > max_probability:\n",
    "                    max_probability = pr \n",
    "                    best_class = current_class\n",
    "                \n",
    "            y_pred.append(best_class)\n",
    "        \n",
    "    return y_pred"
   ]
  },
  {
   "cell_type": "code",
   "execution_count": 26,
   "metadata": {},
   "outputs": [],
   "source": [
    "count = fit(x_train_2d,y_train,vocabulary)"
   ]
  },
  {
   "cell_type": "code",
   "execution_count": 28,
   "metadata": {},
   "outputs": [],
   "source": [
    "y_pred = predict(x_test,count,vocabulary) # here we are using the normal x_test containing path of all test documents instead of the 2d array"
   ]
  },
  {
   "cell_type": "code",
   "execution_count": 30,
   "metadata": {},
   "outputs": [
    {
     "name": "stdout",
     "output_type": "stream",
     "text": [
      "                          precision    recall  f1-score   support\n",
      "\n",
      "                      -1       0.00      0.00      0.00         0\n",
      "             alt.atheism       0.62      0.64      0.63       261\n",
      "           comp.graphics       0.49      0.56      0.52       248\n",
      " comp.os.ms-windows.misc       0.48      0.52      0.50       253\n",
      "comp.sys.ibm.pc.hardware       0.57      0.50      0.53       260\n",
      "   comp.sys.mac.hardware       0.57      0.53      0.55       266\n",
      "          comp.windows.x       0.70      0.57      0.63       265\n",
      "            misc.forsale       0.70      0.73      0.71       252\n",
      "               rec.autos       0.63      0.66      0.65       223\n",
      "         rec.motorcycles       0.71      0.72      0.71       293\n",
      "      rec.sport.baseball       0.68      0.73      0.71       245\n",
      "        rec.sport.hockey       0.81      0.70      0.75       247\n",
      "               sci.crypt       0.85      0.73      0.79       248\n",
      "         sci.electronics       0.58      0.61      0.60       239\n",
      "                 sci.med       0.79      0.71      0.75       236\n",
      "               sci.space       0.76      0.61      0.68       238\n",
      "  soc.religion.christian       0.61      0.64      0.62       233\n",
      "      talk.politics.guns       0.62      0.67      0.64       255\n",
      "   talk.politics.mideast       0.59      0.57      0.58       258\n",
      "      talk.politics.misc       0.71      0.49      0.58       480\n",
      "\n",
      "               micro avg       0.62      0.62      0.62      5000\n",
      "               macro avg       0.62      0.60      0.61      5000\n",
      "            weighted avg       0.66      0.62      0.64      5000\n",
      "\n",
      "[[  0   0   0   0   0   0   0   0   0   0   0   0   0   0   0   0   0   0\n",
      "    0   0]\n",
      " [ 20 167   1   0   0   0   1   1   2   3   6   1   2   2   4   1  28   3\n",
      "    9  10]\n",
      " [ 12   3 140  28  11   7  15   4   2   1   2   3   2   8   3   3   2   1\n",
      "    1   0]\n",
      " [  3   1  23 131  24  12  23   7   1   2   1   0   3   6   3   1   2   1\n",
      "    7   2]\n",
      " [  6   0   9  25 131  46   4   9   7   1   1   0   2  16   1   0   0   0\n",
      "    1   1]\n",
      " [  3   2  10  27  32 141   5  13   5   3   0   0   1  12   6   2   3   1\n",
      "    0   0]\n",
      " [  8   3  42  28   6   1 152   6   3   2   0   0   1   3   0   2   3   0\n",
      "    2   3]\n",
      " [  2   0   5   3   9   8   1 184  11   6   1   2   1   8   1   2   0   2\n",
      "    5   1]\n",
      " [  5   1   0   4   0   4   1   9 147  18   2   1   0  14   2   2   3   3\n",
      "    4   3]\n",
      " [  2   4   3   2   1   0   1   6  21 211   9   8   0   6   2   3   1   4\n",
      "    3   6]\n",
      " [  5   4   2   1   0   2   2   4   5   5 179  19   0   5   0   0   3   1\n",
      "    7   1]\n",
      " [ 10   0   0   2   0   1   0   3   1   7  34 174   1   1   0   1   5   1\n",
      "    5   1]\n",
      " [ 14   2   7   6   0   3   2   1   0   1   2   2 182   4   2   4   1   4\n",
      "    2   9]\n",
      " [  5   2  11   7  15  17   4   8   9   4   1   0   1 146   3   4   1   0\n",
      "    0   1]\n",
      " [ 10   6   6   3   0   1   1   2   3  10   3   0   1   7 168   4   5   0\n",
      "    1   5]\n",
      " [ 13   8  17   1   0   3   3   3   6   7   5   1   3   6   3 145   5   3\n",
      "    0   6]\n",
      " [ 22  29   5   0   1   0   0   1   2   2   2   1   2   1   4   2 149   3\n",
      "    5   2]\n",
      " [ 18   2   0   0   0   1   1   2   3   5   3   0   4   1   3   1   6 170\n",
      "   13  22]\n",
      " [ 34  17   2   2   0   0   1   1   1   3   5   2   1   1   1   1  10   6\n",
      "  148  22]\n",
      " [ 49  19   5   1   0   0   0   0   3   7   6   0   6   3   6  13  18  71\n",
      "   37 236]]\n"
     ]
    },
    {
     "name": "stderr",
     "output_type": "stream",
     "text": [
      "C:\\Users\\noaim\\Anaconda3\\lib\\site-packages\\sklearn\\metrics\\classification.py:1145: UndefinedMetricWarning: Recall and F-score are ill-defined and being set to 0.0 in labels with no true samples.\n",
      "  'recall', 'true', average, warn_for)\n"
     ]
    }
   ],
   "source": [
    "from sklearn.metrics import classification_report, confusion_matrix\n",
    "print(classification_report(y_test, y_pred))\n",
    "print(confusion_matrix(y_test, y_pred))"
   ]
  }
 ],
 "metadata": {
  "kernelspec": {
   "display_name": "Python 3",
   "language": "python",
   "name": "python3"
  },
  "language_info": {
   "codemirror_mode": {
    "name": "ipython",
    "version": 3
   },
   "file_extension": ".py",
   "mimetype": "text/x-python",
   "name": "python",
   "nbconvert_exporter": "python",
   "pygments_lexer": "ipython3",
   "version": "3.7.3"
  }
 },
 "nbformat": 4,
 "nbformat_minor": 2
}
